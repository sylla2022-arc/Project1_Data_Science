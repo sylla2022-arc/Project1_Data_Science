{
 "cells": [
  {
   "cell_type": "code",
   "execution_count": 1,
   "id": "6437f3ea",
   "metadata": {},
   "outputs": [
    {
     "name": "stdout",
     "output_type": "stream",
     "text": [
      "Project root added to sys.path: c:\\Users\\sylla\\Desktop\\MLOPS\\Project1_with_deployment\n"
     ]
    }
   ],
   "source": [
    "import sys\n",
    "import os\n",
    "\n",
    "# Add the project root directory to sys.path\n",
    "project_root = os.path.abspath(os.path.join(os.getcwd(), \"../..\"))\n",
    "sys.path.append(project_root)\n",
    "print(f\"Project root added to sys.path: {project_root}\")"
   ]
  },
  {
   "cell_type": "code",
   "execution_count": 2,
   "id": "e7083281",
   "metadata": {},
   "outputs": [
    {
     "data": {
      "text/plain": [
       "'c:\\\\Users\\\\sylla\\\\Desktop\\\\MLOPS\\\\Project1_with_deployment\\\\Project1_Data_Science\\\\research'"
      ]
     },
     "execution_count": 2,
     "metadata": {},
     "output_type": "execute_result"
    }
   ],
   "source": [
    "%pwd"
   ]
  },
  {
   "cell_type": "code",
   "execution_count": 3,
   "id": "cdc954ee",
   "metadata": {},
   "outputs": [
    {
     "data": {
      "text/plain": [
       "'c:\\\\Users\\\\sylla\\\\Desktop\\\\MLOPS\\\\Project1_with_deployment\\\\Project1_Data_Science'"
      ]
     },
     "execution_count": 3,
     "metadata": {},
     "output_type": "execute_result"
    }
   ],
   "source": [
    "os.chdir('../')\n",
    "%pwd"
   ]
  },
  {
   "cell_type": "code",
   "execution_count": 4,
   "id": "0ce6a62d",
   "metadata": {},
   "outputs": [],
   "source": [
    "from dataclasses import dataclass\n",
    "from pathlib import Path\n",
    "\n",
    "@dataclass\n",
    "class ModelTrainerConfig:\n",
    "    root_dir : Path\n",
    "    train_data_path: Path\n",
    "    test_data_path: Path\n",
    "    model_name : str\n",
    "    alpha : float\n",
    "    random_state : int\n",
    "    l1_ratio : float\n",
    "    target_column : str"
   ]
  },
  {
   "cell_type": "code",
   "execution_count": 5,
   "id": "3a33d3f2",
   "metadata": {},
   "outputs": [],
   "source": [
    "from src.Project1_Data_Science.constants import *\n",
    "from src.Project1_Data_Science.utils.common import read_yaml, create_directories"
   ]
  },
  {
   "cell_type": "code",
   "execution_count": 6,
   "id": "c86493d6",
   "metadata": {},
   "outputs": [],
   "source": [
    "class ConfigurationManager:\n",
    "    def __init__(self, \n",
    "                 config_filepath: str = CONFIG_FILE_PATH,\n",
    "                 params_filepath: str = PARAMS_FILE_PATH,\n",
    "                 schema_filepath: str = SCHEMA_FILE_PATH):\n",
    "        \n",
    "        self.config = read_yaml(config_filepath)\n",
    "        self.params = read_yaml(params_filepath)\n",
    "        self.schema = read_yaml(schema_filepath)\n",
    "\n",
    "        create_directories([self.config.artifacts_root])\n",
    "\n",
    "    def get_model_trainer_config(self) -> ModelTrainerConfig:\n",
    "        config = self.config.model_trainer\n",
    "        params = self.params.ElasticNet\n",
    "        schema = self.schema.TARGET_COLUMN\n",
    "\n",
    "        # Ensure the artifacts root directory exists\n",
    "       \n",
    "        create_directories([config.root_dir])\n",
    "\n",
    "\n",
    "        # Create the model trainer config\n",
    "        model_trainer_config = ModelTrainerConfig(\n",
    "            root_dir= config.root_dir,\n",
    "            train_data_path= config.train_data_path,\n",
    "            test_data_path= config.test_data_path,\n",
    "            model_name= config.model_name,\n",
    "            alpha=params.alpha,\n",
    "            random_state=params.random_state,\n",
    "            l1_ratio=params.l1_ratio,\n",
    "            target_column= schema.name\n",
    "        )\n",
    "        \n",
    "        return model_trainer_config\n",
    "        \n"
   ]
  },
  {
   "cell_type": "code",
   "execution_count": 7,
   "id": "4e83b610",
   "metadata": {},
   "outputs": [],
   "source": [
    "import pandas as pd\n",
    "import os\n",
    "from src.Project1_Data_Science import logger\n",
    "from sklearn.linear_model import ElasticNet\n",
    "import joblib"
   ]
  },
  {
   "cell_type": "code",
   "execution_count": 8,
   "id": "4771bf85",
   "metadata": {},
   "outputs": [],
   "source": [
    "class ModelTrainer :\n",
    "    def __init__(self, config: ModelTrainerConfig):\n",
    "        self.config = config\n",
    "    \n",
    "    def train(self):\n",
    "        logger.info(f\"Training model with config: {self.config}\")\n",
    "        \n",
    "        # Load training data\n",
    "        train_data = pd.read_csv(self.config.train_data_path)\n",
    "        test_data = pd.read_csv(self.config.test_data_path)\n",
    "\n",
    "        # Separate features and target\n",
    "        X_train = train_data.drop(columns=[self.config.target_column])\n",
    "        X_test = test_data.drop(columns=[self.config.target_column])\n",
    "\n",
    "        y_train = train_data[[self.config.target_column]]\n",
    "\n",
    "        y_test = test_data[[self.config.target_column]]\n",
    "\n",
    "        # Train the model\n",
    "        model_en = ElasticNet(\n",
    "            alpha=self.config.alpha,\n",
    "            random_state=self.config.random_state,\n",
    "            l1_ratio=self.config.l1_ratio\n",
    "        )\n",
    "        \n",
    "        model_en.fit(X_train, y_train)\n",
    "\n",
    "        # Save the model\n",
    "        model_path = os.path.join(self.config.root_dir, self.config.model_name)\n",
    "        joblib.dump(model_en, model_path)\n",
    "        \n",
    "        logger.info(f\"Model saved at: {model_path}\")"
   ]
  },
  {
   "cell_type": "code",
   "execution_count": 9,
   "id": "8e0cd4af",
   "metadata": {},
   "outputs": [
    {
     "name": "stdout",
     "output_type": "stream",
     "text": [
      "Lecture de YAML depuis C:\\Users\\sylla\\Desktop\\MLOPS\\Project1_with_deployment\\Project1_Data_Science\\config\\config.yaml\n",
      "Lecture de YAML depuis C:\\Users\\sylla\\Desktop\\MLOPS\\Project1_with_deployment\\Project1_Data_Science\\params.yaml\n",
      "Lecture de YAML depuis C:\\Users\\sylla\\Desktop\\MLOPS\\Project1_with_deployment\\Project1_Data_Science\\schema.yaml\n",
      "2025-04-09 10:55:13,817 - Datasciencelogger - INFO - created directory at: artifacts\n",
      "2025-04-09 10:55:13,824 - Datasciencelogger - INFO - created directory at: artifacts/model_trainer\n",
      "2025-04-09 10:55:13,828 - Datasciencelogger - INFO - Training model with config: ModelTrainerConfig(root_dir='artifacts/model_trainer', train_data_path='artifacts/data_transformation/train.csv', test_data_path='artifacts/data_transformation/test.csv', model_name='model.joblib', alpha=0.2, random_state=42, l1_ratio=0.1, target_column='quality')\n",
      "2025-04-09 10:55:13,980 - Datasciencelogger - INFO - Model saved at: artifacts/model_trainer\\model.joblib\n"
     ]
    }
   ],
   "source": [
    "try: \n",
    "    config = ConfigurationManager()\n",
    "    model_trainer_config = config.get_model_trainer_config()\n",
    "    model_trainer = ModelTrainer(model_trainer_config)\n",
    "    model_trainer.train()\n",
    "except Exception as e:\n",
    "    logger.exception(e)\n",
    "    raise e\n"
   ]
  },
  {
   "cell_type": "code",
   "execution_count": null,
   "id": "058b94cd",
   "metadata": {},
   "outputs": [],
   "source": []
  }
 ],
 "metadata": {
  "kernelspec": {
   "display_name": "Python 3",
   "language": "python",
   "name": "python3"
  },
  "language_info": {
   "codemirror_mode": {
    "name": "ipython",
    "version": 3
   },
   "file_extension": ".py",
   "mimetype": "text/x-python",
   "name": "python",
   "nbconvert_exporter": "python",
   "pygments_lexer": "ipython3",
   "version": "3.11.11"
  }
 },
 "nbformat": 4,
 "nbformat_minor": 5
}
