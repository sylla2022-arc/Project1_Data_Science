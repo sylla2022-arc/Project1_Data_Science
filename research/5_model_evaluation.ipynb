{
 "cells": [
  {
   "cell_type": "code",
   "execution_count": 1,
   "id": "df08f2ff",
   "metadata": {},
   "outputs": [
    {
     "name": "stdout",
     "output_type": "stream",
     "text": [
      "Project root added to sys.path: c:\\Users\\sylla\\Desktop\\MLOPS\\Project1_with_deployment\n"
     ]
    }
   ],
   "source": [
    "import sys\n",
    "import os\n",
    "\n",
    "# Add the project root directory to sys.path\n",
    "project_root = os.path.abspath(os.path.join(os.getcwd(), \"../..\"))\n",
    "sys.path.append(project_root)\n",
    "print(f\"Project root added to sys.path: {project_root}\")"
   ]
  },
  {
   "cell_type": "code",
   "execution_count": 2,
   "id": "5c2eb383",
   "metadata": {},
   "outputs": [],
   "source": [
    "import sys\n",
    "import os\n",
    "\n",
    "os.environ[\"MLFLOW_TRACKING_URI\"] = \"https://dagshub.com/lassoinadame2018/Project1_Data_Science.mlflow\"\n",
    "os.environ[\"MLFLOW_TRACKING_USERNAME\"] = \"lassoinadame2018\"\n",
    "os.environ[\"MLFLOW_TRACKING_PASSWORD\"] = \"f87541f1d8f0408eeabe6b26ca2059a57b8778cd\""
   ]
  },
  {
   "cell_type": "code",
   "execution_count": 3,
   "id": "a39592e7",
   "metadata": {},
   "outputs": [
    {
     "data": {
      "text/plain": [
       "'c:\\\\Users\\\\sylla\\\\Desktop\\\\MLOPS\\\\Project1_with_deployment\\\\Project1_Data_Science\\\\research'"
      ]
     },
     "execution_count": 3,
     "metadata": {},
     "output_type": "execute_result"
    }
   ],
   "source": [
    "%pwd"
   ]
  },
  {
   "cell_type": "code",
   "execution_count": 4,
   "id": "8721706a",
   "metadata": {},
   "outputs": [
    {
     "data": {
      "text/plain": [
       "'c:\\\\Users\\\\sylla\\\\Desktop\\\\MLOPS\\\\Project1_with_deployment\\\\Project1_Data_Science'"
      ]
     },
     "execution_count": 4,
     "metadata": {},
     "output_type": "execute_result"
    }
   ],
   "source": [
    "os.chdir(\"../\")\n",
    "%pwd"
   ]
  },
  {
   "cell_type": "code",
   "execution_count": 5,
   "id": "857fd801",
   "metadata": {},
   "outputs": [],
   "source": [
    "from dataclasses import dataclass\n",
    "from pathlib import Path\n",
    "\n",
    "@dataclass\n",
    "class ModelEvaluationConfig:\n",
    "    root_dir: Path\n",
    "    test_data_path: Path\n",
    "    model_path: Path\n",
    "    metric_file_name: Path\n",
    "    TARGET_COLUMN : str\n",
    "    mlflow_uri: str\n",
    "    all_params : dict"
   ]
  },
  {
   "cell_type": "markdown",
   "id": "6c75d419",
   "metadata": {},
   "source": [
    "### Configuation Manager"
   ]
  },
  {
   "cell_type": "code",
   "execution_count": 6,
   "id": "82f99b08",
   "metadata": {},
   "outputs": [],
   "source": [
    "from src.Project1_Data_Science.constants import *\n",
    "from src.Project1_Data_Science.utils.common import *\n",
    "from src.Project1_Data_Science.entity import *\n"
   ]
  },
  {
   "cell_type": "code",
   "execution_count": 7,
   "id": "e8583967",
   "metadata": {},
   "outputs": [],
   "source": [
    "class ConfigurationManager:\n",
    "    def __init__(self, \n",
    "                 config_filepath: str = CONFIG_FILE_PATH,\n",
    "                 params_filepath: str = PARAMS_FILE_PATH,\n",
    "                 schema_filepath: str = SCHEMA_FILE_PATH):\n",
    "        \n",
    "        self.config = read_yaml(config_filepath)\n",
    "        self.params = read_yaml(params_filepath)\n",
    "        self.schema = read_yaml(schema_filepath)\n",
    "\n",
    "        create_directories([self.config.artifacts_root])\n",
    "    \n",
    "    def get_model_evaluation_config(self) -> ModelEvaluationConfig:\n",
    "        config = self.config.model_evaluation\n",
    "        params = self.params.ElasticNet\n",
    "        schema = self.schema.TARGET_COLUMN\n",
    "\n",
    "        create_directories([config.root_dir])\n",
    "\n",
    "        model_evaluation_config = ModelEvaluationConfig(\n",
    "            root_dir= config.root_dir,\n",
    "            test_data_path= config.test_data_path,\n",
    "            model_path= config.model_path,\n",
    "            metric_file_name= config.metric_file_name,\n",
    "\n",
    "            TARGET_COLUMN= schema.name,\n",
    "            mlflow_uri= \"https://dagshub.com/lassoinadame2018/Project1_Data_Science.mlflow\",\n",
    "            all_params= params\n",
    "        )\n",
    "        return model_evaluation_config"
   ]
  },
  {
   "cell_type": "code",
   "execution_count": 8,
   "id": "2d273388",
   "metadata": {},
   "outputs": [],
   "source": [
    "import os\n",
    "from sklearn.metrics import mean_squared_error, r2_score, mean_absolute_error\n",
    "from urllib.parse import urlparse\n",
    "import mlflow\n",
    "import mlflow.sklearn\n",
    "import pandas as pd\n",
    "import numpy as np\n",
    "import joblib"
   ]
  },
  {
   "cell_type": "code",
   "execution_count": 9,
   "id": "6cb7341e",
   "metadata": {},
   "outputs": [],
   "source": [
    "class ModelEvaluation:\n",
    "    def __init__(self, config: ModelEvaluationConfig):\n",
    "        self.config = config\n",
    "\n",
    "    def eval_metrics(self, actual, y_pred):\n",
    "        rmse = np.sqrt(mean_squared_error(actual, y_pred))\n",
    "        mae = mean_absolute_error(actual, y_pred)\n",
    "        r2 = r2_score(actual, y_pred)\n",
    "        return rmse, mae, r2\n",
    "\n",
    "    # define model evluation method\n",
    "    def log_into_mlflow(self):\n",
    "        # Load test dataset\n",
    "        test_data = pd.read_csv(self.config.test_data_path)\n",
    "        # Load model\n",
    "        model = joblib.load(self.config.model_path)\n",
    "\n",
    "        # Extract features and target variable\n",
    "        X_test = test_data.drop(columns=[self.config.TARGET_COLUMN])\n",
    "        y_test = test_data[[self.config.TARGET_COLUMN]]\n",
    "\n",
    "        # set mlflow tracking uri\n",
    "        mlflow.set_registry_uri(self.config.mlflow_uri)\n",
    "        tracking_uri_type_score = urlparse(mlflow.get_tracking_uri()).scheme\n",
    "\n",
    "        with mlflow.start_run():\n",
    "            # Predict using the model\n",
    "            y_pred = model.predict(X_test)\n",
    "\n",
    "            # Calculate metrics\n",
    "            (rmse, mae, r2) = self.eval_metrics(y_test, y_pred)\n",
    "            scores = {\"rmse\": rmse, \"mae\": mae, \"r2\": r2}\n",
    "            save_json(path= Path(self.config.metric_file_name), data=scores)\n",
    "\n",
    "            # Log metrics to MLflow\n",
    "            mlflow.log_metric(\"rmse\", rmse)\n",
    "            mlflow.log_metric(\"r2\", r2)\n",
    "            mlflow.log_metric(\"mae\", mae)\n",
    "\n",
    "            if tracking_uri_type_score != \"file\":\n",
    "                # registry the model\n",
    "                #There are other way ton use model registry, which depends on the use case\n",
    "                \n",
    "                # 1. Register the model\n",
    "                mlflow.sklearn.log_model(model, 'model',registered_model_name =\"ElasticNetModel\")\n",
    "\n",
    "            else :\n",
    "                # 2. Log the model\n",
    "                mlflow.sklearn.log_model(model, \"model\")\n",
    "\n",
    "\n"
   ]
  },
  {
   "cell_type": "code",
   "execution_count": 10,
   "id": "aebe4ca2",
   "metadata": {},
   "outputs": [
    {
     "name": "stdout",
     "output_type": "stream",
     "text": [
      "Lecture de YAML depuis C:\\Users\\sylla\\Desktop\\MLOPS\\Project1_with_deployment\\Project1_Data_Science\\config\\config.yaml\n",
      "Lecture de YAML depuis C:\\Users\\sylla\\Desktop\\MLOPS\\Project1_with_deployment\\Project1_Data_Science\\params.yaml\n",
      "Lecture de YAML depuis C:\\Users\\sylla\\Desktop\\MLOPS\\Project1_with_deployment\\Project1_Data_Science\\schema.yaml\n",
      "2025-04-10 17:57:58,398 - Datasciencelogger - INFO - created directory at: artifacts\n",
      "2025-04-10 17:57:58,406 - Datasciencelogger - INFO - created directory at: artifacts/model_evaluation\n"
     ]
    },
    {
     "name": "stdout",
     "output_type": "stream",
     "text": [
      "2025-04-10 17:58:00,327 - Datasciencelogger - INFO - json file saved at: artifacts\\model_evaluation\\metrics.json\n"
     ]
    },
    {
     "name": "stderr",
     "output_type": "stream",
     "text": [
      "2025/04/10 17:58:26 WARNING mlflow.models.model: Model logged without a signature and input example. Please set `input_example` parameter when logging the model to auto infer the model signature.\n",
      "Registered model 'ElasticNetModel' already exists. Creating a new version of this model...\n",
      "2025/04/10 17:58:33 INFO mlflow.store.model_registry.abstract_store: Waiting up to 300 seconds for model version to finish creation. Model name: ElasticNetModel, version 2\n",
      "Created version '2' of model 'ElasticNetModel'.\n"
     ]
    },
    {
     "name": "stdout",
     "output_type": "stream",
     "text": [
      "🏃 View run rogue-jay-457 at: https://dagshub.com/lassoinadame2018/Project1_Data_Science.mlflow/#/experiments/0/runs/688c2a63606145cdba586edc2ca45b1d\n",
      "🧪 View experiment at: https://dagshub.com/lassoinadame2018/Project1_Data_Science.mlflow/#/experiments/0\n"
     ]
    }
   ],
   "source": [
    "try:\n",
    "    config = ConfigurationManager()\n",
    "    model_evaluation_config = config.get_model_evaluation_config()\n",
    "    model_evaluation = ModelEvaluation(config=model_evaluation_config)\n",
    "    model_evaluation.log_into_mlflow()\n",
    "except Exception as e:\n",
    "    raise e"
   ]
  },
  {
   "cell_type": "code",
   "execution_count": null,
   "id": "10c0f18f",
   "metadata": {},
   "outputs": [],
   "source": []
  }
 ],
 "metadata": {
  "kernelspec": {
   "display_name": "Python 3",
   "language": "python",
   "name": "python3"
  },
  "language_info": {
   "codemirror_mode": {
    "name": "ipython",
    "version": 3
   },
   "file_extension": ".py",
   "mimetype": "text/x-python",
   "name": "python",
   "nbconvert_exporter": "python",
   "pygments_lexer": "ipython3",
   "version": "3.11.11"
  }
 },
 "nbformat": 4,
 "nbformat_minor": 5
}
